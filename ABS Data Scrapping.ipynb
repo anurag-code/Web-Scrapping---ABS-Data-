{
 "cells": [
  {
   "cell_type": "code",
   "execution_count": 1,
   "metadata": {},
   "outputs": [],
   "source": [
    "import pandas as pd\n",
    "import numpy as np\n",
    "import requests\n",
    "import requests\n",
    "import urllib.request\n",
    "import time\n",
    "from bs4 import BeautifulSoup\n",
    "import html5lib\n",
    "import bs4"
   ]
  },
  {
   "cell_type": "markdown",
   "metadata": {},
   "source": [
    "## Testing "
   ]
  },
  {
   "cell_type": "raw",
   "metadata": {},
   "source": [
    "url = 'https://quickstats.censusdata.abs.gov.au/census_services/getproduct/census/2016/quickstat/POA'+'3762'+'?opendocument'"
   ]
  },
  {
   "cell_type": "raw",
   "metadata": {},
   "source": [
    "response = requests.get(url)"
   ]
  },
  {
   "cell_type": "raw",
   "metadata": {},
   "source": [
    "response"
   ]
  },
  {
   "cell_type": "raw",
   "metadata": {},
   "source": [
    "soup1 = BeautifulSoup(response.text, \"html.parser\")"
   ]
  },
  {
   "cell_type": "raw",
   "metadata": {},
   "source": [
    "soup2 = BeautifulSoup(response.text, \"html5lib\")"
   ]
  },
  {
   "cell_type": "raw",
   "metadata": {},
   "source": [
    "table = soup2.findAll('table', attrs = {'class':'summaryTable qsPeople'})"
   ]
  },
  {
   "cell_type": "raw",
   "metadata": {},
   "source": [
    "table"
   ]
  },
  {
   "cell_type": "raw",
   "metadata": {},
   "source": [
    "table[0].get_text()"
   ]
  },
  {
   "cell_type": "raw",
   "metadata": {},
   "source": [
    "table_groups = soup2.find('table', attrs = {'class':'summaryTable qsPeople'}).findAll('th', attrs = {'scope':'row'})"
   ]
  },
  {
   "cell_type": "raw",
   "metadata": {},
   "source": [
    "table_groups"
   ]
  },
  {
   "cell_type": "raw",
   "metadata": {},
   "source": [
    "table_groups"
   ]
  },
  {
   "cell_type": "raw",
   "metadata": {},
   "source": [
    "table_groups[0].get_text()"
   ]
  },
  {
   "cell_type": "raw",
   "metadata": {},
   "source": [
    "table_data = soup2.find('table', attrs = {'class':'summaryTable qsPeople'}).findAll('td', attrs = {'class':'summaryData'})"
   ]
  },
  {
   "cell_type": "raw",
   "metadata": {},
   "source": [
    "len(table_data)"
   ]
  },
  {
   "cell_type": "raw",
   "metadata": {},
   "source": [
    "table_data[2].get_text()"
   ]
  },
  {
   "cell_type": "markdown",
   "metadata": {},
   "source": [
    "## Implementation."
   ]
  },
  {
   "cell_type": "code",
   "execution_count": 4,
   "metadata": {},
   "outputs": [],
   "source": [
    "postcode= pd.read_csv('D:\\Book_Code\\postcode_bookcode.csv',dtype='str')"
   ]
  },
  {
   "cell_type": "code",
   "execution_count": 6,
   "metadata": {},
   "outputs": [
    {
     "data": {
      "text/html": [
       "<div>\n",
       "<style scoped>\n",
       "    .dataframe tbody tr th:only-of-type {\n",
       "        vertical-align: middle;\n",
       "    }\n",
       "\n",
       "    .dataframe tbody tr th {\n",
       "        vertical-align: top;\n",
       "    }\n",
       "\n",
       "    .dataframe thead th {\n",
       "        text-align: right;\n",
       "    }\n",
       "</style>\n",
       "<table border=\"1\" class=\"dataframe\">\n",
       "  <thead>\n",
       "    <tr style=\"text-align: right;\">\n",
       "      <th></th>\n",
       "      <th>POSTCODE</th>\n",
       "      <th>Suburb</th>\n",
       "      <th>book Code</th>\n",
       "      <th>Location Type</th>\n",
       "      <th>State</th>\n",
       "      <th>Comments</th>\n",
       "    </tr>\n",
       "  </thead>\n",
       "  <tbody>\n",
       "    <tr>\n",
       "      <th>0</th>\n",
       "      <td>0800</td>\n",
       "      <td>DARWIN</td>\n",
       "      <td>S09Y</td>\n",
       "      <td>Regional</td>\n",
       "      <td>NT</td>\n",
       "      <td>NaN</td>\n",
       "    </tr>\n",
       "    <tr>\n",
       "      <th>1</th>\n",
       "      <td>0810</td>\n",
       "      <td>NIGHTCLIFF</td>\n",
       "      <td>S09Y</td>\n",
       "      <td>Regional</td>\n",
       "      <td>NT</td>\n",
       "      <td>NaN</td>\n",
       "    </tr>\n",
       "    <tr>\n",
       "      <th>2</th>\n",
       "      <td>0812</td>\n",
       "      <td>LEANYER</td>\n",
       "      <td>S09Y</td>\n",
       "      <td>Regional</td>\n",
       "      <td>NT</td>\n",
       "      <td>NaN</td>\n",
       "    </tr>\n",
       "    <tr>\n",
       "      <th>3</th>\n",
       "      <td>0820</td>\n",
       "      <td>STUART PARK</td>\n",
       "      <td>S09Y</td>\n",
       "      <td>Regional</td>\n",
       "      <td>NT</td>\n",
       "      <td>NaN</td>\n",
       "    </tr>\n",
       "    <tr>\n",
       "      <th>4</th>\n",
       "      <td>0822</td>\n",
       "      <td>WINNELLIE</td>\n",
       "      <td>S09Y</td>\n",
       "      <td>Regional</td>\n",
       "      <td>NT</td>\n",
       "      <td>NaN</td>\n",
       "    </tr>\n",
       "    <tr>\n",
       "      <th>5</th>\n",
       "      <td>0828</td>\n",
       "      <td>BERRIMAH</td>\n",
       "      <td>S09Y</td>\n",
       "      <td>Regional</td>\n",
       "      <td>NT</td>\n",
       "      <td>NaN</td>\n",
       "    </tr>\n",
       "    <tr>\n",
       "      <th>6</th>\n",
       "      <td>0829</td>\n",
       "      <td>PINELANDS</td>\n",
       "      <td>S09Y</td>\n",
       "      <td>Regional</td>\n",
       "      <td>NT</td>\n",
       "      <td>New</td>\n",
       "    </tr>\n",
       "    <tr>\n",
       "      <th>7</th>\n",
       "      <td>0830</td>\n",
       "      <td>GRAY</td>\n",
       "      <td>S09Y</td>\n",
       "      <td>Regional</td>\n",
       "      <td>NT</td>\n",
       "      <td>NaN</td>\n",
       "    </tr>\n",
       "    <tr>\n",
       "      <th>8</th>\n",
       "      <td>0832</td>\n",
       "      <td>ROSEBERY</td>\n",
       "      <td>S09Y</td>\n",
       "      <td>Regional</td>\n",
       "      <td>NT</td>\n",
       "      <td>NaN</td>\n",
       "    </tr>\n",
       "    <tr>\n",
       "      <th>9</th>\n",
       "      <td>0834</td>\n",
       "      <td>VIRGINIA</td>\n",
       "      <td>S09Y</td>\n",
       "      <td>Regional</td>\n",
       "      <td>NT</td>\n",
       "      <td>New</td>\n",
       "    </tr>\n",
       "    <tr>\n",
       "      <th>10</th>\n",
       "      <td>0835</td>\n",
       "      <td>HOWARD SPRINGS</td>\n",
       "      <td>S09Y</td>\n",
       "      <td>Regional</td>\n",
       "      <td>NT</td>\n",
       "      <td>NaN</td>\n",
       "    </tr>\n",
       "    <tr>\n",
       "      <th>11</th>\n",
       "      <td>0836</td>\n",
       "      <td>HUMPTY DOO</td>\n",
       "      <td>S09Y</td>\n",
       "      <td>Regional</td>\n",
       "      <td>NT</td>\n",
       "      <td>NaN</td>\n",
       "    </tr>\n",
       "    <tr>\n",
       "      <th>12</th>\n",
       "      <td>0837</td>\n",
       "      <td>NOONAMAH</td>\n",
       "      <td>S09Y</td>\n",
       "      <td>Regional</td>\n",
       "      <td>NT</td>\n",
       "      <td>NaN</td>\n",
       "    </tr>\n",
       "    <tr>\n",
       "      <th>13</th>\n",
       "      <td>0838</td>\n",
       "      <td>BERRY SPRINGS</td>\n",
       "      <td>S09Y</td>\n",
       "      <td>Regional</td>\n",
       "      <td>NT</td>\n",
       "      <td>NaN</td>\n",
       "    </tr>\n",
       "    <tr>\n",
       "      <th>14</th>\n",
       "      <td>0839</td>\n",
       "      <td>COOLALINGA</td>\n",
       "      <td>S09Y</td>\n",
       "      <td>Regional</td>\n",
       "      <td>NT</td>\n",
       "      <td>NaN</td>\n",
       "    </tr>\n",
       "    <tr>\n",
       "      <th>15</th>\n",
       "      <td>0840</td>\n",
       "      <td>DUNDEE BEACH</td>\n",
       "      <td>S09Y</td>\n",
       "      <td>Regional</td>\n",
       "      <td>NT</td>\n",
       "      <td>NaN</td>\n",
       "    </tr>\n",
       "    <tr>\n",
       "      <th>16</th>\n",
       "      <td>0841</td>\n",
       "      <td>DARWIN RIVER</td>\n",
       "      <td>S09Y</td>\n",
       "      <td>Regional</td>\n",
       "      <td>NT</td>\n",
       "      <td>NaN</td>\n",
       "    </tr>\n",
       "    <tr>\n",
       "      <th>17</th>\n",
       "      <td>0845</td>\n",
       "      <td>BATCHELOR</td>\n",
       "      <td>S09Y</td>\n",
       "      <td>Regional</td>\n",
       "      <td>NT</td>\n",
       "      <td>NaN</td>\n",
       "    </tr>\n",
       "    <tr>\n",
       "      <th>18</th>\n",
       "      <td>0846</td>\n",
       "      <td>ADELAIDE RIVER</td>\n",
       "      <td>S09Y</td>\n",
       "      <td>Regional</td>\n",
       "      <td>NT</td>\n",
       "      <td>NaN</td>\n",
       "    </tr>\n",
       "    <tr>\n",
       "      <th>19</th>\n",
       "      <td>0847</td>\n",
       "      <td>PINE CREEK</td>\n",
       "      <td>S09Y</td>\n",
       "      <td>Regional</td>\n",
       "      <td>NT</td>\n",
       "      <td>NaN</td>\n",
       "    </tr>\n",
       "    <tr>\n",
       "      <th>20</th>\n",
       "      <td>0850</td>\n",
       "      <td>KATHERINE EAST</td>\n",
       "      <td>S09Y</td>\n",
       "      <td>Regional</td>\n",
       "      <td>NT</td>\n",
       "      <td>NaN</td>\n",
       "    </tr>\n",
       "    <tr>\n",
       "      <th>21</th>\n",
       "      <td>0852</td>\n",
       "      <td>KATHERINE</td>\n",
       "      <td>S09Y</td>\n",
       "      <td>Regional</td>\n",
       "      <td>NT</td>\n",
       "      <td>NaN</td>\n",
       "    </tr>\n",
       "    <tr>\n",
       "      <th>22</th>\n",
       "      <td>0853</td>\n",
       "      <td>TINDAL</td>\n",
       "      <td>S09Y</td>\n",
       "      <td>Regional</td>\n",
       "      <td>NT</td>\n",
       "      <td>NaN</td>\n",
       "    </tr>\n",
       "    <tr>\n",
       "      <th>23</th>\n",
       "      <td>0854</td>\n",
       "      <td>BORROLOOLA</td>\n",
       "      <td>S09Y</td>\n",
       "      <td>Regional</td>\n",
       "      <td>NT</td>\n",
       "      <td>NaN</td>\n",
       "    </tr>\n",
       "    <tr>\n",
       "      <th>24</th>\n",
       "      <td>0860</td>\n",
       "      <td>TENNANT CREEK</td>\n",
       "      <td>S09Y</td>\n",
       "      <td>Regional</td>\n",
       "      <td>NT</td>\n",
       "      <td>NaN</td>\n",
       "    </tr>\n",
       "    <tr>\n",
       "      <th>25</th>\n",
       "      <td>0862</td>\n",
       "      <td>TENNANT CREEK</td>\n",
       "      <td>S09Y</td>\n",
       "      <td>Regional</td>\n",
       "      <td>NT</td>\n",
       "      <td>NaN</td>\n",
       "    </tr>\n",
       "    <tr>\n",
       "      <th>26</th>\n",
       "      <td>0870</td>\n",
       "      <td>GILLEN</td>\n",
       "      <td>S10Y</td>\n",
       "      <td>Regional</td>\n",
       "      <td>NT</td>\n",
       "      <td>NaN</td>\n",
       "    </tr>\n",
       "    <tr>\n",
       "      <th>27</th>\n",
       "      <td>0872</td>\n",
       "      <td>YULARA</td>\n",
       "      <td>S10Y</td>\n",
       "      <td>Regional</td>\n",
       "      <td>NT</td>\n",
       "      <td>NaN</td>\n",
       "    </tr>\n",
       "    <tr>\n",
       "      <th>28</th>\n",
       "      <td>0873</td>\n",
       "      <td>HEAVITREE GAP CPA</td>\n",
       "      <td>S10Y</td>\n",
       "      <td>Regional</td>\n",
       "      <td>NT</td>\n",
       "      <td>NaN</td>\n",
       "    </tr>\n",
       "    <tr>\n",
       "      <th>29</th>\n",
       "      <td>0874</td>\n",
       "      <td>MOUNT JOHNS</td>\n",
       "      <td>S10Y</td>\n",
       "      <td>Regional</td>\n",
       "      <td>NT</td>\n",
       "      <td>NaN</td>\n",
       "    </tr>\n",
       "    <tr>\n",
       "      <th>30</th>\n",
       "      <td>0875</td>\n",
       "      <td>LARAPINTA</td>\n",
       "      <td>S10Y</td>\n",
       "      <td>Regional</td>\n",
       "      <td>NT</td>\n",
       "      <td>NaN</td>\n",
       "    </tr>\n",
       "    <tr>\n",
       "      <th>31</th>\n",
       "      <td>0880</td>\n",
       "      <td>NHULUNBUY</td>\n",
       "      <td>S09Y</td>\n",
       "      <td>Regional</td>\n",
       "      <td>NT</td>\n",
       "      <td>NaN</td>\n",
       "    </tr>\n",
       "    <tr>\n",
       "      <th>32</th>\n",
       "      <td>0885</td>\n",
       "      <td>ALYANGULA</td>\n",
       "      <td>S09Y</td>\n",
       "      <td>Regional</td>\n",
       "      <td>NT</td>\n",
       "      <td>NaN</td>\n",
       "    </tr>\n",
       "    <tr>\n",
       "      <th>33</th>\n",
       "      <td>0886</td>\n",
       "      <td>JABIRU</td>\n",
       "      <td>S09Y</td>\n",
       "      <td>Regional</td>\n",
       "      <td>NT</td>\n",
       "      <td>NaN</td>\n",
       "    </tr>\n",
       "  </tbody>\n",
       "</table>\n",
       "</div>"
      ],
      "text/plain": [
       "   POSTCODE             Suburb book Code Location Type State Comments\n",
       "0      0800             DARWIN      S09Y      Regional    NT      NaN\n",
       "1      0810         NIGHTCLIFF      S09Y      Regional    NT      NaN\n",
       "2      0812            LEANYER      S09Y      Regional    NT      NaN\n",
       "3      0820        STUART PARK      S09Y      Regional    NT      NaN\n",
       "4      0822          WINNELLIE      S09Y      Regional    NT      NaN\n",
       "5      0828           BERRIMAH      S09Y      Regional    NT      NaN\n",
       "6      0829          PINELANDS      S09Y      Regional    NT      New\n",
       "7      0830               GRAY      S09Y      Regional    NT      NaN\n",
       "8      0832           ROSEBERY      S09Y      Regional    NT      NaN\n",
       "9      0834           VIRGINIA      S09Y      Regional    NT      New\n",
       "10     0835     HOWARD SPRINGS      S09Y      Regional    NT      NaN\n",
       "11     0836         HUMPTY DOO      S09Y      Regional    NT      NaN\n",
       "12     0837           NOONAMAH      S09Y      Regional    NT      NaN\n",
       "13     0838      BERRY SPRINGS      S09Y      Regional    NT      NaN\n",
       "14     0839         COOLALINGA      S09Y      Regional    NT      NaN\n",
       "15     0840       DUNDEE BEACH      S09Y      Regional    NT      NaN\n",
       "16     0841       DARWIN RIVER      S09Y      Regional    NT      NaN\n",
       "17     0845          BATCHELOR      S09Y      Regional    NT      NaN\n",
       "18     0846     ADELAIDE RIVER      S09Y      Regional    NT      NaN\n",
       "19     0847         PINE CREEK      S09Y      Regional    NT      NaN\n",
       "20     0850     KATHERINE EAST      S09Y      Regional    NT      NaN\n",
       "21     0852          KATHERINE      S09Y      Regional    NT      NaN\n",
       "22     0853             TINDAL      S09Y      Regional    NT      NaN\n",
       "23     0854         BORROLOOLA      S09Y      Regional    NT      NaN\n",
       "24     0860      TENNANT CREEK      S09Y      Regional    NT      NaN\n",
       "25     0862      TENNANT CREEK      S09Y      Regional    NT      NaN\n",
       "26     0870             GILLEN      S10Y      Regional    NT      NaN\n",
       "27     0872             YULARA      S10Y      Regional    NT      NaN\n",
       "28     0873  HEAVITREE GAP CPA      S10Y      Regional    NT      NaN\n",
       "29     0874        MOUNT JOHNS      S10Y      Regional    NT      NaN\n",
       "30     0875          LARAPINTA      S10Y      Regional    NT      NaN\n",
       "31     0880          NHULUNBUY      S09Y      Regional    NT      NaN\n",
       "32     0885          ALYANGULA      S09Y      Regional    NT      NaN\n",
       "33     0886             JABIRU      S09Y      Regional    NT      NaN"
      ]
     },
     "execution_count": 6,
     "metadata": {},
     "output_type": "execute_result"
    }
   ],
   "source": [
    "postcode"
   ]
  },
  {
   "cell_type": "raw",
   "metadata": {},
   "source": [
    "## Take out Postcode array"
   ]
  },
  {
   "cell_type": "code",
   "execution_count": 7,
   "metadata": {},
   "outputs": [
    {
     "data": {
      "text/plain": [
       "POSTCODE         object\n",
       "Suburb           object\n",
       "book Code        object\n",
       "Location Type    object\n",
       "State            object\n",
       "Comments         object\n",
       "dtype: object"
      ]
     },
     "execution_count": 7,
     "metadata": {},
     "output_type": "execute_result"
    }
   ],
   "source": [
    "postcode.dtypes"
   ]
  },
  {
   "cell_type": "code",
   "execution_count": 8,
   "metadata": {},
   "outputs": [],
   "source": [
    "postcode['POSTCODE']=postcode.POSTCODE.astype('object')"
   ]
  },
  {
   "cell_type": "code",
   "execution_count": 9,
   "metadata": {},
   "outputs": [
    {
     "data": {
      "text/plain": [
       "'2'"
      ]
     },
     "execution_count": 9,
     "metadata": {},
     "output_type": "execute_result"
    }
   ],
   "source": [
    "str('2')"
   ]
  },
  {
   "cell_type": "raw",
   "metadata": {},
   "source": [
    "## Create empty lists"
   ]
  },
  {
   "cell_type": "code",
   "execution_count": 10,
   "metadata": {},
   "outputs": [],
   "source": [
    "population = []\n",
    "male_per =[]\n",
    "female_per=[]\n",
    "median_age = []\n",
    "post_code=[]"
   ]
  },
  {
   "cell_type": "code",
   "execution_count": 11,
   "metadata": {},
   "outputs": [
    {
     "name": "stdout",
     "output_type": "stream",
     "text": [
      "i\n",
      "i\n",
      "i\n",
      "i\n",
      "i\n",
      "i\n",
      "i\n",
      "i\n",
      "i\n",
      "i\n",
      "i\n",
      "i\n",
      "i\n",
      "i\n",
      "i\n",
      "i\n",
      "i\n",
      "i\n",
      "i\n",
      "i\n",
      "i\n",
      "i\n",
      "i\n",
      "i\n",
      "i\n",
      "i\n",
      "i\n",
      "i\n",
      "i\n",
      "i\n",
      "i\n",
      "i\n",
      "i\n",
      "i\n"
     ]
    }
   ],
   "source": [
    "for i in postcode['POSTCODE']:\n",
    "    try:\n",
    "        url_list =  'https://quickstats.censusdata.abs.gov.au/census_services/getproduct/census/2016/quickstat/POA'+str(i)+'?opendocument'\n",
    "        response = requests.get(url_list)\n",
    "        soup2 = BeautifulSoup(response.text, \"html5lib\")\n",
    "        table_data = soup2.find('table', attrs = {'class':'summaryTable qsPeople'}).findAll('td', attrs = {'class':'summaryData'})\n",
    "        post_code.append(i)\n",
    "        population.append(table_data[0].get_text())\n",
    "        male_per.append(table_data[1].get_text())\n",
    "        female_per.append(table_data[2].get_text())\n",
    "        median_age.append(table_data[3].get_text())\n",
    "        print('i')\n",
    "    except:\n",
    "        continue"
   ]
  },
  {
   "cell_type": "code",
   "execution_count": 12,
   "metadata": {},
   "outputs": [],
   "source": [
    "## create Dictionary"
   ]
  },
  {
   "cell_type": "code",
   "execution_count": 13,
   "metadata": {},
   "outputs": [],
   "source": [
    "dict = {'post_code_': post_code, 'population_': population, 'male_per_':male_per, 'female_per_': female_per, 'median_age_': median_age}"
   ]
  },
  {
   "cell_type": "code",
   "execution_count": 14,
   "metadata": {},
   "outputs": [],
   "source": [
    "data_abs=pd.DataFrame.from_dict(dict)"
   ]
  },
  {
   "cell_type": "code",
   "execution_count": 15,
   "metadata": {},
   "outputs": [],
   "source": [
    "data_abs.to_csv('D:\\Book_Code\\postcode_data_abs_part2.csv')"
   ]
  },
  {
   "cell_type": "code",
   "execution_count": null,
   "metadata": {},
   "outputs": [],
   "source": []
  }
 ],
 "metadata": {
  "kernelspec": {
   "display_name": "Python 3",
   "language": "python",
   "name": "python3"
  },
  "language_info": {
   "codemirror_mode": {
    "name": "ipython",
    "version": 3
   },
   "file_extension": ".py",
   "mimetype": "text/x-python",
   "name": "python",
   "nbconvert_exporter": "python",
   "pygments_lexer": "ipython3",
   "version": "3.7.0"
  }
 },
 "nbformat": 4,
 "nbformat_minor": 2
}
